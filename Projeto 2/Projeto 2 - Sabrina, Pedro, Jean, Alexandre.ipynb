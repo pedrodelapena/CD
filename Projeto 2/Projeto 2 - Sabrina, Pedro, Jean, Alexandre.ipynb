{
 "cells": [
  {
   "cell_type": "markdown",
   "metadata": {},
   "source": [
    "# Projeto 2: Teste AB"
   ]
  },
  {
   "cell_type": "markdown",
   "metadata": {},
   "source": [
    "### <font color='blue'> Alexandre Young - B</font> ###\n",
    "### <font color='blue'> Jean Walper - B</font> ###\n",
    "### <font color='blue'> Pedro de la Peña - B</font> ###\n",
    "### <font color='blue'> Sabrina Sampaio Simão - A</font> ###"
   ]
  },
  {
   "cell_type": "markdown",
   "metadata": {},
   "source": [
    " "
   ]
  },
  {
   "cell_type": "markdown",
   "metadata": {},
   "source": [
    "## Introdução:"
   ]
  },
  {
   "cell_type": "markdown",
   "metadata": {},
   "source": [
    "O nosso projeto consiste em propor um teste AB para um site, aplicá-lo e analisar seus resultados.\n",
    "    \n",
    "Um teste AB é um tipo de teste usado para analisar os efeitos que uma caracteristica diferente tem sobre uma determinada tarefa. O utilizaremos para estudar os efeitos que a disposição de links tem na navegação de um site.\n",
    "  \n",
    "Como exemplo real utilizamos um site que acreditamos que se beneficiaria dessa mudança, o portfólio de projetos (primeiro projeto de Co-Design) de um dos integrantes do grupo. No modelo original do site (A), o posicionamento dos links para as paginas de projeto parecia causar uma certa confusão sobre quais itens eram links \"clicáveis\" ao estar abaixo de itens que não eram. Para confirmar essa hipótese construímos uma versão modificada (B) onde acreditamos que a disposição dos links fosse mais intuitiva.\n",
    "\n",
    "O motivo para essa mudança veio do próprio feedback dos avaliadores do portfolio, portanto há uma base para pensar que tal alteração será efetiva para o tempo de uso do nosso site. Na versão B, imaginamos que o usuário vai encontrar os links dos trabalhos muito mais rápido!\n",
    "\n",
    "Fizemos, então, duas versões diferentes do site e a colocamos no firebase hosting. O usuário que entrasse no site teria 50% de chance de cair em uma das versões A ou B.\n",
    "\n",
    "Encontramos 79 candidatos dispostos a nos ajudar no teste, sem conhecer ou ser exposto à outra versão do site e sem nenhuma indicação de que caminho seguir, pedimos que cada candidato encontrasse a página do \"Jogo de Computador\" no portfolio. Para os 42 que navegaram pela versão A do site e os 37 pela a versão B procuramos medir apenas o tempo que levaram, em segundos para encontrar a página específica.\n",
    " \n",
    "Tentamos nos certificar que eles não conheciam o site previamente, eram usuários que não tinham conhecimento do projeto de co design do Insper, e também não fossem muito leigos em informática, para não ficarem perdidos na tarefa."
   ]
  },
  {
   "cell_type": "code",
   "execution_count": 1,
   "metadata": {
    "collapsed": false
   },
   "outputs": [],
   "source": [
    "import pandas as pd\n",
    "import json\n",
    "import itertools\n",
    "import matplotlib.pyplot as plt\n",
    "import numpy as np\n",
    "from scipy import stats\n",
    "%matplotlib inline"
   ]
  },
  {
   "cell_type": "markdown",
   "metadata": {},
   "source": [
    "#### Leitura do arquivo"
   ]
  },
  {
   "cell_type": "code",
   "execution_count": 2,
   "metadata": {
    "collapsed": false,
    "scrolled": true
   },
   "outputs": [],
   "source": [
    "arquivo = open(\"exportNINJA.json\")\n",
    "linhas = arquivo.readlines()\n",
    "texto = \"\".join(linhas)\n",
    "dados_fire = json.loads(texto)"
   ]
  },
  {
   "cell_type": "markdown",
   "metadata": {},
   "source": [
    "#### Análise do atributo logs"
   ]
  },
  {
   "cell_type": "code",
   "execution_count": 3,
   "metadata": {
    "collapsed": false
   },
   "outputs": [],
   "source": [
    "for k,v in dados_fire[\"logs\"].items():\n",
    "    # print(k,v) # habilite para imprimir as chaves de mais alto nível\n",
    "    for chave, valor in v.items():\n",
    "        # print(chave, valor) # habilite para imprimir as chaves inferiores\n",
    "        pass # desabilite quando reabilitar a linha de cima"
   ]
  },
  {
   "cell_type": "markdown",
   "metadata": {},
   "source": [
    "#### Convertendo para um dataframe"
   ]
  },
  {
   "cell_type": "code",
   "execution_count": 4,
   "metadata": {
    "collapsed": false
   },
   "outputs": [],
   "source": [
    "lista_dicionarios = []\n",
    "\n",
    "for k,v in dados_fire[\"logs\"].items():\n",
    "    lista_dicionarios.append(v)"
   ]
  },
  {
   "cell_type": "code",
   "execution_count": 5,
   "metadata": {
    "collapsed": false
   },
   "outputs": [],
   "source": [
    "dataframe = pd.DataFrame.from_records(lista_dicionarios)"
   ]
  },
  {
   "cell_type": "code",
   "execution_count": 6,
   "metadata": {
    "collapsed": false,
    "scrolled": true
   },
   "outputs": [],
   "source": [
    "#dataframe (desmarcar para ver o dataframe)"
   ]
  },
  {
   "cell_type": "markdown",
   "metadata": {},
   "source": [
    "#### Convertendo para um DataFrame de delta_t"
   ]
  },
  {
   "cell_type": "code",
   "execution_count": 7,
   "metadata": {
    "collapsed": false
   },
   "outputs": [],
   "source": [
    "agrupado = dataframe.groupby(by=[\"user_id\", \"versao\"])"
   ]
  },
  {
   "cell_type": "code",
   "execution_count": 8,
   "metadata": {
    "collapsed": false
   },
   "outputs": [],
   "source": [
    "users = set(dataframe.user_id) # We convert it to a set so that each user appear only once"
   ]
  },
  {
   "cell_type": "code",
   "execution_count": 9,
   "metadata": {
    "collapsed": false
   },
   "outputs": [],
   "source": [
    "users = list(users)"
   ]
  },
  {
   "cell_type": "code",
   "execution_count": 10,
   "metadata": {
    "collapsed": false
   },
   "outputs": [],
   "source": [
    "resultados = []\n",
    "\n",
    "for u in users:\n",
    "    for versao in [\"A\", \"B\"]:\n",
    "        if (u, versao) in agrupado.groups.keys(): # Check if a specific pair user/type of test happened\n",
    "            grupo1 =  agrupado.get_group((u, versao))\n",
    "            grupo1 = grupo1.sort_values(by=\"tempo\") # Para evitar que inícios sem fim gerem tempos negativos\n",
    "            \n",
    "            if len(grupo1[grupo1.tipo==\"fim\"])>= 1 and len(grupo1[grupo1.tipo==\"inicio\"]) >= 1:\n",
    "                delta_t = grupo1[grupo1.tipo==\"fim\"].iloc[-1].tempo - grupo1[grupo1.tipo==\"inicio\"].iloc[0].tempo\n",
    "                resultados.append({\"user_id\":u, \"delta_t\":delta_t, \"versao\":versao})"
   ]
  },
  {
   "cell_type": "code",
   "execution_count": 11,
   "metadata": {
    "collapsed": false
   },
   "outputs": [],
   "source": [
    "#grupo1.sort_values(by=\"tempo\")"
   ]
  },
  {
   "cell_type": "code",
   "execution_count": 12,
   "metadata": {
    "collapsed": true
   },
   "outputs": [],
   "source": [
    "dataframe_resumo = pd.DataFrame.from_records(resultados)"
   ]
  },
  {
   "cell_type": "code",
   "execution_count": 13,
   "metadata": {
    "collapsed": false
   },
   "outputs": [],
   "source": [
    "dataframe_resumo.delta_t/=1000 # Convertendo milissegundos em segundos"
   ]
  },
  {
   "cell_type": "code",
   "execution_count": 14,
   "metadata": {
    "collapsed": false,
    "scrolled": true
   },
   "outputs": [
    {
     "name": "stdout",
     "output_type": "stream",
     "text": [
      "Numero da população de A e B, respectivamente\n",
      "42 37\n"
     ]
    }
   ],
   "source": [
    "dfA= dataframe_resumo[dataframe_resumo.versao == \"A\"]\n",
    "dfB= dataframe_resumo[dataframe_resumo.versao == \"B\"]\n",
    "\n",
    "\n",
    "print(\"Numero da população de A e B, respectivamente\")\n",
    "print(dfA.shape[0],dfB.shape[0])\n",
    "\n",
    "#dataframe_resumo (desmarcar para ver nossa tabela)"
   ]
  },
  {
   "cell_type": "markdown",
   "metadata": {},
   "source": [
    "# <color='m'> Teste de hipótese! </color>\n",
    "### Usando teste t, pois em nossa amostra, n < 200"
   ]
  },
  {
   "cell_type": "markdown",
   "metadata": {},
   "source": [
    "Definimos a hipótese nula como o tempo médio gasto na versão A do site equivalendo ao tempo médio gasto na versão B (H0:μa=μb) e a hipótese alternativa como o valor médio de tempo gasto na versão A sendo maior que o tempo gasto na versão B (H1:μa > μb). O nível de significância inicial foi de 5%, mas resolvemos analisar para 1% e 10% também.\n",
    "    \n",
    "Devido ao fato de não possuirmos muitas amostras, realizamos o teste t-student em vez de um teste z. Os parâmetros do teste estão definidos no código a seguir, sendo T a média padronizada e V o grau de liberdade:"
   ]
  },
  {
   "cell_type": "code",
   "execution_count": 15,
   "metadata": {
    "collapsed": false
   },
   "outputs": [],
   "source": [
    "alpha= 0.05 #Nivel de significancia 10%\n",
    "na= dfA.shape[0]\n",
    "nb = dfB.shape[0]\n",
    "D = 0 #Pois adimitimos H0: uma media igual a outra\n",
    "\n",
    "#Hipótese:\n",
    "    #H0: μa = μb\n",
    "    #H1: μa =/= μb\n",
    "    \n",
    "μa= dfA.delta_t.mean()\n",
    "μb= dfB.delta_t.mean()\n",
    "\n",
    "Sa= dfA.delta_t.std()\n",
    "Sb= dfB.delta_t.std()\n",
    "\n",
    "sna = ((Sa**2)/na)\n",
    "snb = ((Sb**2)/nb)\n",
    "spa = (sna**2)/(na-1)\n",
    "spb = (snb**2)/(nb-1)\n",
    "\n",
    "#LES FORMULAS(3B, magalhães e lima)\n",
    "\n",
    "T=(D-(μa - μb))/((sna+snb)**(0.5))\n",
    "v= ((sna + snb)**2)/(spa+spb)"
   ]
  },
  {
   "cell_type": "markdown",
   "metadata": {},
   "source": [
    "### Na próxima célula, analisaremos a posição do valor-p em relação ao alpha"
   ]
  },
  {
   "cell_type": "code",
   "execution_count": 16,
   "metadata": {
    "collapsed": false
   },
   "outputs": [
    {
     "name": "stdout",
     "output_type": "stream",
     "text": [
      "0.964135517461\n",
      "\n",
      "Com nosso nível de significância alpha= 10%, nosso teste T REJEITA a hipótese nula\n",
      "Com nosso nível de significância alpha= 5%, nosso teste T REJEITA a hipótese nula\n",
      "Com nosso nível de significância alpha= 1%, nosso teste T NÃO REJEITA a hipótese nula\n"
     ]
    }
   ],
   "source": [
    "pvalue = stats.t.sf(T,df=v)\n",
    "print(pvalue)\n",
    "print()\n",
    "\n",
    "alpha=0.1\n",
    "if(pvalue> 1-alpha):\n",
    "    print(\"Com nosso nível de significância alpha= 10%, nosso teste T REJEITA a hipótese nula\")\n",
    "else:\n",
    "    print(\"Com nosso nível de significância alpha= 10%, nosso teste T NÃO REJEITA a hipótese nula\")\n",
    "    \n",
    "alpha=0.05\n",
    "if(pvalue> 1-alpha):\n",
    "    print(\"Com nosso nível de significância alpha= 5%, nosso teste T REJEITA a hipótese nula\")\n",
    "else:\n",
    "    print(\"Com nosso nível de significância alpha= 5%, nosso teste T NÃO REJEITA a hipótese nula\")\n",
    "    \n",
    "alpha=0.01\n",
    "if(pvalue> 1-alpha):\n",
    "    print(\"Com nosso nível de significância alpha= 1%, nosso teste T REJEITA a hipótese nula\")\n",
    "else:\n",
    "    print(\"Com nosso nível de significância alpha= 1%, nosso teste T NÃO REJEITA a hipótese nula\")"
   ]
  },
  {
   "cell_type": "markdown",
   "metadata": {},
   "source": [
    "## Conclusão: ###"
   ]
  },
  {
   "cell_type": "markdown",
   "metadata": {
    "collapsed": true
   },
   "source": [
    "A validade do nosso teste T depende do nosso nível de confiança alpha em que trabalhamos, sendo alpha a probabilidade de que nosso teste não ser confiável. Não é possível, no entanto, assumir um nivel total de confiabilidade (alpha de 0%). Isto apenas seria possível caso existisse um espaço amostral que representasse com absoluta certeza a população total. \n",
    "  \t\n",
    "Queremos idealmente estudar nosso teste dentro de níveis altos de confiabilidade para uma análise final mais significativa. A mudança do valor de alpha pode confirmar ou rejeitar a hipotese nula, portanto decidimos fazer o teste com os tres valores mais comuns de alpha: 1%, 5% e 10%.\n",
    "  \t\n",
    "Após os teste, percebemos que a hipotese nula é rejeitada com um nivel de significancia de 10% e 5%, indicando que há uma diferença consideravel na media do tempo nescessario para executar a tarefa do site em suas diferentes versões, e\n",
    "mostrando que a posição dos links dos projetos influenciou nesse tempo. Porém, quando diminuimos o alpha (nivel de significancia) para 1%, a hipotese nula passou a não ser rejeitada, indicando que não há diferença entre as duas versões, em quesitos de tempo gasto para achar o projeto alvo. Isto se deve ao fato de nossa população não ser perfeita a ponto de conseguirmos uma amostra maior e mais dedicada. De qualquer forma, nosso p-value foi de menos de 4%, razoavelmente baixo, assim podemos realmente duvidar da hipótese nula.\n",
    "  \t\n",
    "Concluímos que, ao analisar os dados coletados, com nível de confiabilidade de 95%, a nossa alteração na disposição dos itens do site beneficiou significativamente a navegabilidade, facilitando para os usuários encontrar as informações que procuram. \n",
    "   "
   ]
  }
 ],
 "metadata": {
  "anaconda-cloud": {},
  "kernelspec": {
   "display_name": "Python 3",
   "language": "python",
   "name": "python3"
  },
  "language_info": {
   "codemirror_mode": {
    "name": "ipython",
    "version": 3
   },
   "file_extension": ".py",
   "mimetype": "text/x-python",
   "name": "python",
   "nbconvert_exporter": "python",
   "pygments_lexer": "ipython3",
   "version": "3.5.1"
  }
 },
 "nbformat": 4,
 "nbformat_minor": 0
}
