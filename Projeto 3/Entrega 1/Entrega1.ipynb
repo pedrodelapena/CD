{
 "cells": [
  {
   "cell_type": "markdown",
   "metadata": {},
   "source": [
    "# Projeto 3 - Ciência dos Dados"
   ]
  },
  {
   "cell_type": "markdown",
   "metadata": {},
   "source": [
    "## Pedro de la Peña e Luigi Noronha - Segundo Semestre 2016"
   ]
  },
  {
   "cell_type": "markdown",
   "metadata": {},
   "source": [
    " \n",
    "     \n",
    "        \n",
    "           \n"
   ]
  },
  {
   "cell_type": "markdown",
   "metadata": {},
   "source": [
    "## Introdução"
   ]
  },
  {
   "cell_type": "markdown",
   "metadata": {},
   "source": [
    "Para nosso projeto, escolhemos como a variável definida pelo professor a <b>Taxa de desemprego</b>."
   ]
  },
  {
   "cell_type": "markdown",
   "metadata": {},
   "source": [
    "### Lendo os Dados"
   ]
  },
  {
   "cell_type": "code",
   "execution_count": 10,
   "metadata": {
    "collapsed": false
   },
   "outputs": [
    {
     "name": "stdout",
     "output_type": "stream",
     "text": [
      "Esperamos trabalhar no diretório\n",
      "C:\\Users\\pedro\\Desktop\\Projeto 3\\Entrega 1\n"
     ]
    }
   ],
   "source": [
    "%matplotlib inline\n",
    "\n",
    "import os\n",
    "import matplotlib.pyplot as plt\n",
    "from mpl_toolkits.mplot3d import Axes3D\n",
    "from matplotlib import cm\n",
    "import pandas as pd\n",
    "import numpy as np\n",
    "\n",
    "import statsmodels.api as sm1 #Usa OLS com X como matriz de planejamento\n",
    "import statsmodels.formula.api as sm  #Usa OLS como no R\n",
    "\n",
    "print('Esperamos trabalhar no diretório')\n",
    "print(os.getcwd())"
   ]
  },
  {
   "cell_type": "code",
   "execution_count": 2,
   "metadata": {
    "collapsed": false
   },
   "outputs": [],
   "source": [
    "dados = pd.read_excel('Main.xlsx',index_col=0)"
   ]
  },
  {
   "cell_type": "code",
   "execution_count": 3,
   "metadata": {
    "collapsed": false
   },
   "outputs": [
    {
     "data": {
      "text/html": [
       "<div>\n",
       "<table border=\"1\" class=\"dataframe\">\n",
       "  <thead>\n",
       "    <tr style=\"text-align: right;\">\n",
       "      <th></th>\n",
       "      <th>TaxadeDesemprego</th>\n",
       "      <th>IDH</th>\n",
       "      <th>FertilidadeTotal</th>\n",
       "      <th>Investimento</th>\n",
       "      <th>ConsumoDeAlcool</th>\n",
       "    </tr>\n",
       "    <tr>\n",
       "      <th>Países</th>\n",
       "      <th></th>\n",
       "      <th></th>\n",
       "      <th></th>\n",
       "      <th></th>\n",
       "      <th></th>\n",
       "    </tr>\n",
       "  </thead>\n",
       "  <tbody>\n",
       "    <tr>\n",
       "      <th>Australia</th>\n",
       "      <td>0.7</td>\n",
       "      <td>0.922</td>\n",
       "      <td>1.92</td>\n",
       "      <td>28.367409</td>\n",
       "      <td>10.21</td>\n",
       "    </tr>\n",
       "    <tr>\n",
       "      <th>Austria</th>\n",
       "      <td>1.2</td>\n",
       "      <td>0.870</td>\n",
       "      <td>1.38</td>\n",
       "      <td>23.132400</td>\n",
       "      <td>12.40</td>\n",
       "    </tr>\n",
       "    <tr>\n",
       "      <th>Belgium</th>\n",
       "      <td>3.8</td>\n",
       "      <td>0.880</td>\n",
       "      <td>1.80</td>\n",
       "      <td>22.877777</td>\n",
       "      <td>10.41</td>\n",
       "    </tr>\n",
       "    <tr>\n",
       "      <th>Canada</th>\n",
       "      <td>0.4</td>\n",
       "      <td>0.900</td>\n",
       "      <td>1.66</td>\n",
       "      <td>23.239707</td>\n",
       "      <td>10.20</td>\n",
       "    </tr>\n",
       "    <tr>\n",
       "      <th>Czech Rep.</th>\n",
       "      <td>2.8</td>\n",
       "      <td>0.861</td>\n",
       "      <td>1.39</td>\n",
       "      <td>27.014222</td>\n",
       "      <td>16.47</td>\n",
       "    </tr>\n",
       "  </tbody>\n",
       "</table>\n",
       "</div>"
      ],
      "text/plain": [
       "            TaxadeDesemprego    IDH  FertilidadeTotal  Investimento  \\\n",
       "Países                                                                \n",
       "Australia                0.7  0.922              1.92     28.367409   \n",
       "Austria                  1.2  0.870              1.38     23.132400   \n",
       "Belgium                  3.8  0.880              1.80     22.877777   \n",
       "Canada                   0.4  0.900              1.66     23.239707   \n",
       "Czech Rep.               2.8  0.861              1.39     27.014222   \n",
       "\n",
       "            ConsumoDeAlcool  \n",
       "Países                       \n",
       "Australia             10.21  \n",
       "Austria               12.40  \n",
       "Belgium               10.41  \n",
       "Canada                10.20  \n",
       "Czech Rep.            16.47  "
      ]
     },
     "execution_count": 3,
     "metadata": {},
     "output_type": "execute_result"
    }
   ],
   "source": [
    "dados.head()"
   ]
  },
  {
   "cell_type": "code",
   "execution_count": 4,
   "metadata": {
    "collapsed": false
   },
   "outputs": [
    {
     "data": {
      "text/plain": [
       "(30, 5)"
      ]
     },
     "execution_count": 4,
     "metadata": {},
     "output_type": "execute_result"
    }
   ],
   "source": [
    "dados.shape"
   ]
  },
  {
   "cell_type": "markdown",
   "metadata": {},
   "source": [
    "## Escolhendo as variáveis"
   ]
  },
  {
   "cell_type": "markdown",
   "metadata": {},
   "source": [
    "As variáveis escolhidas utilizando o site http://www.gapminder.org/tools. As variáveis foram: Consumo de Álcool, Investimento, Filhos por Mulher e IDH. O link com os gráficos que justificam a escolha dessas variáveis está disposto a seguir."
   ]
  },
  {
   "cell_type": "markdown",
   "metadata": {},
   "source": [
    "http://imgur.com/a/GvtlP"
   ]
  },
  {
   "cell_type": "markdown",
   "metadata": {},
   "source": [
    "## Gráficos no python"
   ]
  },
  {
   "cell_type": "code",
   "execution_count": 6,
   "metadata": {
    "collapsed": false
   },
   "outputs": [
    {
     "data": {
      "image/png": "[encoded data removed]",
      "text/plain": [
       "<matplotlib.figure.Figure at 0x284592c0e48>"
      ]
     },
     "metadata": {},
     "output_type": "display_data"
    }
   ],
   "source": [
    "f, ax = plt.subplots(2,2,figsize=(16,8))\n",
    "ax[0,0].scatter(dados.IDH, dados.TaxadeDesemprego, alpha=0.7)  # Plot the raw data\n",
    "ax[0,0].set_ylabel(\"IDH\")\n",
    "ax[0,0].set_xlabel(\"Taxa de Desemprego (em %)\")\n",
    "\n",
    "ax[0,1].scatter(dados.FertilidadeTotal, dados.TaxadeDesemprego, alpha=0.7)  # Plot the raw data\n",
    "ax[0,1].set_ylabel(\"Fertilidade\")\n",
    "ax[0,1].set_xlabel(\"Taxa de Desemprego (em %)\")\n",
    "#ax[0,1].set_xlim(0,10000)\n",
    "\n",
    "ax[1,0].scatter(dados.Investimento, dados.TaxadeDesemprego, alpha=0.7)  # Plot the raw data\n",
    "ax[1,0].set_ylabel(\"Investimento em % do PIB\")\n",
    "ax[1,0].set_xlabel(\"Taxa de Desemprego (em %)\")\n",
    "#ax[1,0].set_xlim(0,35)\n",
    "\n",
    "ax[1,1].scatter(dados.ConsumoDeAlcool, dados.TaxadeDesemprego, alpha=0.7)  # Plot the raw data\n",
    "ax[1,1].set_ylabel(\"Consumo de Álcool (em litros)\")\n",
    "ax[1,1].set_xlabel(\"Taxa de Desemprego (em %)\")\n",
    "#ax[1,1].set_xlim(0,100)\n",
    "\n",
    "plt.tight_layout(1)"
   ]
  },
  {
   "cell_type": "markdown",
   "metadata": {},
   "source": [
    "## Correlação por python"
   ]
  },
  {
   "cell_type": "code",
   "execution_count": 8,
   "metadata": {
    "collapsed": false
   },
   "outputs": [
    {
     "data": {
      "text/html": [
       "<div>\n",
       "<table border=\"1\" class=\"dataframe\">\n",
       "  <thead>\n",
       "    <tr style=\"text-align: right;\">\n",
       "      <th></th>\n",
       "      <th>TaxadeDesemprego</th>\n",
       "      <th>IDH</th>\n",
       "      <th>FertilidadeTotal</th>\n",
       "      <th>Investimento</th>\n",
       "      <th>ConsumoDeAlcool</th>\n",
       "    </tr>\n",
       "  </thead>\n",
       "  <tbody>\n",
       "    <tr>\n",
       "      <th>TaxadeDesemprego</th>\n",
       "      <td>1.000000</td>\n",
       "      <td>-0.395345</td>\n",
       "      <td>-0.501530</td>\n",
       "      <td>-0.027148</td>\n",
       "      <td>0.399439</td>\n",
       "    </tr>\n",
       "    <tr>\n",
       "      <th>IDH</th>\n",
       "      <td>-0.395345</td>\n",
       "      <td>1.000000</td>\n",
       "      <td>-0.015749</td>\n",
       "      <td>0.046136</td>\n",
       "      <td>0.060279</td>\n",
       "    </tr>\n",
       "    <tr>\n",
       "      <th>FertilidadeTotal</th>\n",
       "      <td>-0.501530</td>\n",
       "      <td>-0.015749</td>\n",
       "      <td>1.000000</td>\n",
       "      <td>-0.140356</td>\n",
       "      <td>-0.231785</td>\n",
       "    </tr>\n",
       "    <tr>\n",
       "      <th>Investimento</th>\n",
       "      <td>-0.027148</td>\n",
       "      <td>0.046136</td>\n",
       "      <td>-0.140356</td>\n",
       "      <td>1.000000</td>\n",
       "      <td>-0.161914</td>\n",
       "    </tr>\n",
       "    <tr>\n",
       "      <th>ConsumoDeAlcool</th>\n",
       "      <td>0.399439</td>\n",
       "      <td>0.060279</td>\n",
       "      <td>-0.231785</td>\n",
       "      <td>-0.161914</td>\n",
       "      <td>1.000000</td>\n",
       "    </tr>\n",
       "  </tbody>\n",
       "</table>\n",
       "</div>"
      ],
      "text/plain": [
       "                  TaxadeDesemprego       IDH  FertilidadeTotal  Investimento  \\\n",
       "TaxadeDesemprego          1.000000 -0.395345         -0.501530     -0.027148   \n",
       "IDH                      -0.395345  1.000000         -0.015749      0.046136   \n",
       "FertilidadeTotal         -0.501530 -0.015749          1.000000     -0.140356   \n",
       "Investimento             -0.027148  0.046136         -0.140356      1.000000   \n",
       "ConsumoDeAlcool           0.399439  0.060279         -0.231785     -0.161914   \n",
       "\n",
       "                  ConsumoDeAlcool  \n",
       "TaxadeDesemprego         0.399439  \n",
       "IDH                      0.060279  \n",
       "FertilidadeTotal        -0.231785  \n",
       "Investimento            -0.161914  \n",
       "ConsumoDeAlcool          1.000000  "
      ]
     },
     "execution_count": 8,
     "metadata": {},
     "output_type": "execute_result"
    }
   ],
   "source": [
    "dados.corr(method='pearson')"
   ]
  }
 ],
 "metadata": {
  "kernelspec": {
   "display_name": "Python 3",
   "language": "python",
   "name": "python3"
  },
  "language_info": {
   "codemirror_mode": {
    "name": "ipython",
    "version": 3
   },
   "file_extension": ".py",
   "mimetype": "text/x-python",
   "name": "python",
   "nbconvert_exporter": "python",
   "pygments_lexer": "ipython3",
   "version": "3.5.2"
  }
 },
 "nbformat": 4,
 "nbformat_minor": 0
}
